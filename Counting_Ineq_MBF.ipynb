{
  "nbformat": 4,
  "nbformat_minor": 0,
  "metadata": {
    "colab": {
      "provenance": []
    },
    "kernelspec": {
      "name": "python3",
      "display_name": "Python 3"
    },
    "language_info": {
      "name": "python"
    }
  },
  "cells": [
    {
      "cell_type": "code",
      "source": [
        "import os\n",
        "import time\n",
        "import numpy as np\n",
        "import scipy"
      ],
      "metadata": {
        "id": "WMMdn38u7NVb"
      },
      "execution_count": null,
      "outputs": []
    },
    {
      "cell_type": "code",
      "source": [
        "def mat_2n(nvars):\n",
        "#function mat = mat_2n(nvars)\n",
        "\n",
        "# Outputs matrix with n rows, where the ith row contains 2^(n - i + 1)\n",
        "# blocks of length 2^(i - 1), alternating between all 1's and all 0's.\n",
        "# Each column corresponds to a truth assignment where a 1 in row i means\n",
        "# that variable x_i is set to 1.\n",
        "\n",
        "# Essentially the (0,1) Rademacher matrix of order n\n",
        "\n",
        "    if nvars == 0:\n",
        "        mat = np.array([[]], dtype=int)\n",
        "    elif nvars == 1:\n",
        "        mat = np.array([[1, 0]], dtype=int)\n",
        "    else:\n",
        "        mat_temp = mat_2n(nvars - 1)\n",
        "\n",
        "        mat = np.concatenate([mat_temp, mat_temp], axis=1)\n",
        "        last_row = np.concatenate([np.ones((1,2**(nvars-1)), dtype=int),np.zeros((1,2**(nvars-1)), dtype=int)], axis=1)\n",
        "        mat = np.concatenate([mat, last_row], axis=0)\n",
        "    return mat\n"
      ],
      "metadata": {
        "id": "KTBJmgSp6PKr"
      },
      "execution_count": null,
      "outputs": []
    },
    {
      "cell_type": "code",
      "source": [
        "# Test Case\n",
        "nvars = 3\n",
        "mat = mat_2n(nvars)\n",
        "print(mat)"
      ],
      "metadata": {
        "colab": {
          "base_uri": "https://localhost:8080/"
        },
        "id": "YhSzoKigST6y",
        "outputId": "cd12c011-487a-47af-d4c9-127ed5aa6b4a"
      },
      "execution_count": null,
      "outputs": [
        {
          "output_type": "stream",
          "name": "stdout",
          "text": [
            "[[1 0 1 0 1 0 1 0]\n",
            " [1 1 0 0 1 1 0 0]\n",
            " [1 1 1 1 0 0 0 0]]\n"
          ]
        }
      ]
    },
    {
      "cell_type": "code",
      "source": [
        "from scipy.special import comb\n",
        "\n",
        "def count_signatures(nvars):\n",
        "    # Counts the number of valid signatures for MBFs on nvars variables.\n",
        "    # From OEIS, A007695. Modified c and kap to index starting from 1\n",
        "\n",
        "    # Initialize/preallocate\n",
        "    c = np.zeros((nvars + 1, comb(nvars, nvars // 2, exact=True) + 1), dtype=np.uint32)\n",
        "    kap = np.zeros_like(c, dtype=np.uint32)\n",
        "    kkk = np.zeros_like(c, dtype=np.uint32)\n",
        "    c[0, 0] = 1\n",
        "    c[0, 1] = 1\n",
        "    kap[0, 0] = 0\n",
        "\n",
        "    s = 2\n",
        "\n",
        "    for r in range(nvars):\n",
        "        d = s\n",
        "        k = r\n",
        "        j = 0\n",
        "        s = 0\n",
        "\n",
        "        x_max = comb(nvars, r+1, exact=True)\n",
        "\n",
        "        for x in range(x_max + 1):\n",
        "            kkk[r + 1, x] = k\n",
        "\n",
        "            if x >= comb(k, r+1, exact=True):\n",
        "                k = k + 1\n",
        "\n",
        "            if x == 0:\n",
        "                kap[r + 1, x] = 0\n",
        "            else:\n",
        "                kap[r + 1, x] = comb(k - 1, r, exact=True) + kap[r, x - comb(k - 1, r+1, exact=True)]\n",
        "\n",
        "            while j < kap[r + 1, x]:\n",
        "                d = d - c[r, j]\n",
        "                j = j + 1\n",
        "\n",
        "            c[r + 1, x] = d\n",
        "            s = s + d\n",
        "\n",
        "    return s, kap, c"
      ],
      "metadata": {
        "id": "aCgGL4Bj53YP"
      },
      "execution_count": null,
      "outputs": []
    },
    {
      "cell_type": "code",
      "source": [
        "# Test Case\n",
        "nvars = 3\n",
        "s, kap, c = count_signatures(nvars)\n",
        "print(f\"S = {s}\\n kap=\\n{kap}\\n c=\\n{c}\")"
      ],
      "metadata": {
        "colab": {
          "base_uri": "https://localhost:8080/"
        },
        "id": "T9gREsNsSsp1",
        "outputId": "7e83d10f-09b1-4a72-8e44-330a12350c80"
      },
      "execution_count": null,
      "outputs": [
        {
          "output_type": "stream",
          "name": "stdout",
          "text": [
            "S = 10\n",
            " kap=\n",
            "[[0 0 0 0]\n",
            " [0 1 1 1]\n",
            " [0 2 3 3]\n",
            " [0 3 0 0]]\n",
            " c=\n",
            "[[1 1 0 0]\n",
            " [2 1 1 1]\n",
            " [5 2 1 1]\n",
            " [9 1 0 0]]\n"
          ]
        }
      ]
    },
    {
      "cell_type": "code",
      "source": [
        "def rows_to_bits(bytes):\n",
        "    # Compresses the rows of a 0-1 matrix into an integer matrix whose bits give the old matrix.\n",
        "    # The first column of the original matrix becomes the least significant bits of the first column of the new matrix, and so on.\n",
        "\n",
        "    int_size = 32\n",
        "\n",
        "    num_rows = bytes.shape[0]\n",
        "    num_cols = bytes.shape[1]\n",
        "    compact_cols = np.ceil(num_cols / 32).astype(int)\n",
        "    last_length = num_cols - int_size * (compact_cols - 1)\n",
        "\n",
        "    bits = np.zeros((num_rows, compact_cols), dtype=np.uint32)\n",
        "\n",
        "    for j in range(compact_cols):\n",
        "        last = int_size  # Last column to fill.\n",
        "        if j == compact_cols - 1:\n",
        "            last = last_length\n",
        "        for k in range(last):\n",
        "            line = bytes[:, int_size * j + k]\n",
        "            bits[:, j] = np.bitwise_or(bits[:, j], np.left_shift(line, k))\n",
        "\n",
        "    return bits\n"
      ],
      "metadata": {
        "id": "2SI6WtNH6_22"
      },
      "execution_count": null,
      "outputs": []
    },
    {
      "cell_type": "code",
      "source": [
        "# Test Case\n",
        "bytes = np.array([[1, 0, 1, 0], [1, 1, 1, 0]])\n",
        "bit = rows_to_bits(bytes)\n",
        "print(bit)"
      ],
      "metadata": {
        "id": "AFCIQjSL_PrP",
        "colab": {
          "base_uri": "https://localhost:8080/"
        },
        "outputId": "4a3d25e4-7f93-40c6-bb45-dee8bc419f6c"
      },
      "execution_count": null,
      "outputs": [
        {
          "output_type": "stream",
          "name": "stdout",
          "text": [
            "[[5]\n",
            " [7]]\n"
          ]
        }
      ]
    },
    {
      "cell_type": "code",
      "source": [
        "def rfb(bits, nvars):\n",
        "    # Uncompresses the rows of a matrix encoded as bits into a 0-1 integer matrix.\n",
        "    # The first column of the compressed matrix encodes the first 32 columns of the new matrix, and so on.\n",
        "    # The additional parameter nvars encodes the number of variables.\n",
        "\n",
        "    int_size = 32                # Number of bits in an integer.\n",
        "    num_rows = bits.shape[0]     # Number of rows of bit-encoded columns.\n",
        "    compact_cols = bits.shape[1] # Number of input columns.\n",
        "\n",
        "    last_length = nvars - (compact_cols - 1) * int_size\n",
        "\n",
        "    # Decode.\n",
        "    bytes = np.zeros((num_rows, nvars))\n",
        "    for i in range(compact_cols):\n",
        "        curr_col = bits[:, i]\n",
        "        last_index = int_size\n",
        "\n",
        "        if i == compact_cols - 1:\n",
        "            last_index = last_length\n",
        "        mask = np.zeros(num_rows, dtype=np.uint32)\n",
        "        mask = np.bitwise_or(mask, 1)\n",
        "        for j in range(last_index):\n",
        "            bytes[:, int_size * i + j] = np.right_shift(np.bitwise_and(curr_col, mask), j)\n",
        "            mask = np.left_shift(mask, 1)\n",
        "\n",
        "    return bytes.astype('int32')\n"
      ],
      "metadata": {
        "id": "KwRyetqc6_zN"
      },
      "execution_count": null,
      "outputs": []
    },
    {
      "cell_type": "code",
      "source": [
        "# Test Case\n",
        "bits = bit # It is taken from previous function\n",
        "nvars = 3\n",
        "bytes = rfb(bits, nvars)\n",
        "print(bytes)"
      ],
      "metadata": {
        "colab": {
          "base_uri": "https://localhost:8080/"
        },
        "id": "mlWWG8GkWRmT",
        "outputId": "72cd4ff2-25ed-48bd-f122-3778ca113c28"
      },
      "execution_count": null,
      "outputs": [
        {
          "output_type": "stream",
          "name": "stdout",
          "text": [
            "[[1 0 1]\n",
            " [1 1 1]]\n"
          ]
        }
      ]
    },
    {
      "cell_type": "code",
      "source": [
        "def perm(mat,sgn,dim):\n",
        "\n",
        "# Permutes the rows or columns of the matrix mat according to the\n",
        "# permutation sgn, a row vector containing the numbers from 1 to n.\n",
        "\n",
        "# dim gives the dimension being permuted.\n",
        "    if not isinstance(mat, np.ndarray):\n",
        "        mat = np.asarray(mat)\n",
        "    if not isinstance(sgn, np.ndarray):\n",
        "        sgn = np.asarray(sgn)\n",
        "\n",
        "    red = np.ones(sgn.shape[0], dtype=int)\n",
        "    sgn = sgn - red\n",
        "# Check for correct size, too.\n",
        "\n",
        "    if dim == 1:\n",
        "        if mat.shape[0] == len(sgn):\n",
        "            return mat[sgn,:]\n",
        "        else:\n",
        "            print(f\"Incorrect dimensions\")\n",
        "            return\n",
        "\n",
        "    elif dim == 2:\n",
        "        if mat.shape[1] == len(sgn):\n",
        "            return mat[:,sgn]\n",
        "        else:\n",
        "            print(f\"Incorrect dimensions\")\n",
        "            return\n",
        "    else:\n",
        "        print(f\"Invalid argument for dimension. dim should be 1 or 2\")\n",
        "        return"
      ],
      "metadata": {
        "id": "DP8olyTV6_q4"
      },
      "execution_count": null,
      "outputs": []
    },
    {
      "cell_type": "code",
      "source": [
        "# Test Case\n",
        "mat = np.array([[1, 2, 3], [4, 5, 6], [7, 8, 9]])\n",
        "sgn = [1, 3, 2]\n",
        "dim = 1\n",
        "mat = perm(mat,sgn,dim)\n",
        "print(mat)"
      ],
      "metadata": {
        "colab": {
          "base_uri": "https://localhost:8080/"
        },
        "id": "7xybiaPPfRY0",
        "outputId": "51953ad4-e950-4f44-fe77-798a8d2a747a"
      },
      "execution_count": null,
      "outputs": [
        {
          "output_type": "stream",
          "name": "stdout",
          "text": [
            "[[1 2 3]\n",
            " [7 8 9]\n",
            " [4 5 6]]\n"
          ]
        }
      ]
    },
    {
      "cell_type": "code",
      "source": [
        "def mts(f, nvars):\n",
        "    # Given a MBF f, this function outputs its minimal true statements.\n",
        "\n",
        "    comp = mat_2n(nvars)\n",
        "    result = np.zeros((nvars, 0))\n",
        "\n",
        "    if not isinstance(f, np.ndarray):\n",
        "\n",
        "      if f == 1:\n",
        "          result = np.zeros((nvars, 1), dtype=np.int32)\n",
        "          return result\n",
        "\n",
        "    while np.any(np.where(f != 0)):\n",
        "        x = np.ones(2**nvars, dtype=np.int32)\n",
        "\n",
        "        curr_bit = np.where(f)[0][-1]\n",
        "        col = comp[:, curr_bit]\n",
        "        result = np.concatenate((result, col.reshape(-1, 1)), axis=1)\n",
        "\n",
        "        ind = np.where(col)[0]\n",
        "        card = len(ind)\n",
        "\n",
        "        for k in range(card):\n",
        "            x = np.bitwise_and(x, comp[ind[k], :])\n",
        "        f = np.maximum(f - x, 0)\n",
        "\n",
        "    return result.astype('int64')"
      ],
      "metadata": {
        "id": "3exUN_8j-8oA"
      },
      "execution_count": null,
      "outputs": []
    },
    {
      "cell_type": "code",
      "source": [
        "# Test Case\n",
        "f = np.array([1, 0, 1, 1, 0, 1, 1, 0])\n",
        "nvars = 3\n",
        "res = mts(f, nvars)\n",
        "print(res)"
      ],
      "metadata": {
        "colab": {
          "base_uri": "https://localhost:8080/"
        },
        "id": "KEEjRJ-i89f3",
        "outputId": "5a066b36-3cee-47a9-88c3-6eba07dfd160"
      },
      "execution_count": null,
      "outputs": [
        {
          "output_type": "stream",
          "name": "stdout",
          "text": [
            "[[1 0 0]\n",
            " [0 1 0]\n",
            " [0 0 1]]\n"
          ]
        }
      ]
    },
    {
      "cell_type": "code",
      "source": [
        "def phi_1(nvars):\n",
        "#function result = phi_1(nvars)\n",
        "\n",
        "# All monotone boolean functions in nvars variables with exactly one\n",
        "# minterm. (Consequently, ith row is the shadow of the minterm of that\n",
        "# function).\n",
        "    result = np.zeros((0,2**nvars), dtype=int)\n",
        "    comp = mat_2n(nvars)\n",
        "\n",
        "    for k in range(2**nvars):\n",
        "        col = comp[:,k]\n",
        "        ind = np.where(col != 0)\n",
        "\n",
        "        x = np.ones((1,2**nvars), dtype=int)\n",
        "\n",
        "        for i in range(len(ind[0])):\n",
        "\n",
        "            x = x & comp[ind[0][i],:]\n",
        "\n",
        "        result = np.concatenate([result, x], axis=0)\n",
        "\n",
        "    return result\n"
      ],
      "metadata": {
        "id": "0B7PRV8O-6e0"
      },
      "execution_count": null,
      "outputs": []
    },
    {
      "cell_type": "code",
      "source": [
        "# Test Case\n",
        "nvars = 3\n",
        "res = phi_1(nvars)\n",
        "print(res)"
      ],
      "metadata": {
        "colab": {
          "base_uri": "https://localhost:8080/"
        },
        "id": "GrMB80SrgoJ1",
        "outputId": "f6253ffb-9b80-4751-f372-86fdb66fbe5d"
      },
      "execution_count": null,
      "outputs": [
        {
          "output_type": "stream",
          "name": "stdout",
          "text": [
            "[[1 0 0 0 0 0 0 0]\n",
            " [1 1 0 0 0 0 0 0]\n",
            " [1 0 1 0 0 0 0 0]\n",
            " [1 1 1 1 0 0 0 0]\n",
            " [1 0 0 0 1 0 0 0]\n",
            " [1 1 0 0 1 1 0 0]\n",
            " [1 0 1 0 1 0 1 0]\n",
            " [1 1 1 1 1 1 1 1]]\n"
          ]
        }
      ]
    },
    {
      "cell_type": "code",
      "source": [
        "def mts_to_mbf(M, nvars):\n",
        "    # Given a matrix of minimal true statements, outputs the MBF f with these minterms.\n",
        "\n",
        "    comp = mat_2n(nvars)\n",
        "    result = np.zeros((1, 2**nvars), dtype=int)\n",
        "\n",
        "    if not isinstance(f, np.ndarray):\n",
        "      if M == 0:\n",
        "          result = np.ones((1, 2**nvars), dtype=int64)\n",
        "          return result\n",
        "\n",
        "    total = M.shape[1]\n",
        "\n",
        "    for i in range(total):\n",
        "        curr_col = M[:, i]\n",
        "        ind = np.where(curr_col)[0]\n",
        "        card = ind.size\n",
        "\n",
        "        temp = np.ones((1, 2**nvars), dtype=int)\n",
        "\n",
        "        for k in range(card):\n",
        "            temp = np.bitwise_and(temp, comp[ind[k], :])\n",
        "\n",
        "        result = np.bitwise_or(result, temp)\n",
        "\n",
        "    return result\n"
      ],
      "metadata": {
        "id": "M-E_1uEj-4R3"
      },
      "execution_count": null,
      "outputs": []
    },
    {
      "cell_type": "code",
      "source": [
        "# Test Case\n",
        "M = np.array([[1, 0, 1, 1, 0, 1, 1, 0]]) # This must be 2D numpy array\n",
        "nvars = 3\n",
        "res = mts_to_mbf(M, nvars)\n",
        "print(res)"
      ],
      "metadata": {
        "colab": {
          "base_uri": "https://localhost:8080/"
        },
        "id": "BK8fgx8UDZnO",
        "outputId": "754a5b6b-e5a1-4ae6-8048-bc38ef56c2f7"
      },
      "execution_count": null,
      "outputs": [
        {
          "output_type": "stream",
          "name": "stdout",
          "text": [
            "[[1 1 1 1 1 1 1 1]]\n"
          ]
        }
      ]
    },
    {
      "cell_type": "code",
      "source": [
        "def mbf_comp(M_in, nvars, D_1, comp):\n",
        "    # Given a matrix of MBFs M_in (in expanded form), for each row f,\n",
        "    # this function outputs all statements comparable to its minterms (from the top).\n",
        "\n",
        "    last = M_in.shape[0]\n",
        "    resultM = np.zeros((last, 2**nvars))\n",
        "    result_rightM = resultM.copy()\n",
        "\n",
        "    for i in range(last):\n",
        "        f = M_in[i, :]\n",
        "\n",
        "        result = f\n",
        "        result_right = np.zeros(2**nvars)\n",
        "\n",
        "        if np.array_equal(f, np.ones(2**nvars)):\n",
        "            resultM[i, :] = np.ones(2**nvars)\n",
        "\n",
        "        while np.any(f):\n",
        "            x = np.ones(2**nvars)\n",
        "            y = np.zeros(2**nvars)\n",
        "\n",
        "            curr_bit = np.where(f)[0][-1]\n",
        "            col = comp[:, curr_bit]\n",
        "\n",
        "            x = D_1[curr_bit, :]\n",
        "            ind2 = np.where(col == 0)[0]\n",
        "            card2 = len(ind2)\n",
        "\n",
        "            for j in range(card2):\n",
        "                y = np.bitwise_or(y, comp[ind2[j], :])\n",
        "\n",
        "            f = np.maximum(f - x, 0)\n",
        "            result_right = np.bitwise_or(~y, result_right)\n",
        "\n",
        "        resultM[i, :] = result\n",
        "        result_rightM[i, :] = result_right\n",
        "\n",
        "    return resultM, result_rightM"
      ],
      "metadata": {
        "id": "vIoSfyvk538f"
      },
      "execution_count": null,
      "outputs": []
    },
    {
      "cell_type": "code",
      "source": [
        "print(\"Didn't Happed\")\n",
        "# Test Case\n",
        "M_in= np.array([[1, 0, 1, 1, 0, 1, 1, 0]]) # This must be 2D numpy array\n",
        "nvars = 3\n",
        "D_1 = np.array([[1, 0, 1, 1, 0, 1, 1, 0]])\n",
        "comp = np.array([[1, 0, 1, 1, 0, 1, 1, 0]])\n",
        "resultM, result_rightM = mbf_comp(M_in, nvars, D_1, comp)\n",
        "print(resultM, result_rightM)"
      ],
      "metadata": {
        "colab": {
          "base_uri": "https://localhost:8080/",
          "height": 358
        },
        "id": "nmOzvgdiETtP",
        "outputId": "9b43abfa-cd6a-48d2-d56e-c95d859cb0e9"
      },
      "execution_count": null,
      "outputs": [
        {
          "output_type": "stream",
          "name": "stdout",
          "text": [
            "Didn't Happed\n"
          ]
        },
        {
          "output_type": "error",
          "ename": "IndexError",
          "evalue": "ignored",
          "traceback": [
            "\u001b[0;31m---------------------------------------------------------------------------\u001b[0m",
            "\u001b[0;31mIndexError\u001b[0m                                Traceback (most recent call last)",
            "\u001b[0;32m<ipython-input-148-60f38d186e7e>\u001b[0m in \u001b[0;36m<cell line: 7>\u001b[0;34m()\u001b[0m\n\u001b[1;32m      5\u001b[0m \u001b[0mD_1\u001b[0m \u001b[0;34m=\u001b[0m \u001b[0mnp\u001b[0m\u001b[0;34m.\u001b[0m\u001b[0marray\u001b[0m\u001b[0;34m(\u001b[0m\u001b[0;34m[\u001b[0m\u001b[0;34m[\u001b[0m\u001b[0;36m1\u001b[0m\u001b[0;34m,\u001b[0m \u001b[0;36m0\u001b[0m\u001b[0;34m,\u001b[0m \u001b[0;36m1\u001b[0m\u001b[0;34m,\u001b[0m \u001b[0;36m1\u001b[0m\u001b[0;34m,\u001b[0m \u001b[0;36m0\u001b[0m\u001b[0;34m,\u001b[0m \u001b[0;36m1\u001b[0m\u001b[0;34m,\u001b[0m \u001b[0;36m1\u001b[0m\u001b[0;34m,\u001b[0m \u001b[0;36m0\u001b[0m\u001b[0;34m]\u001b[0m\u001b[0;34m]\u001b[0m\u001b[0;34m)\u001b[0m\u001b[0;34m\u001b[0m\u001b[0;34m\u001b[0m\u001b[0m\n\u001b[1;32m      6\u001b[0m \u001b[0mcomp\u001b[0m \u001b[0;34m=\u001b[0m \u001b[0mnp\u001b[0m\u001b[0;34m.\u001b[0m\u001b[0marray\u001b[0m\u001b[0;34m(\u001b[0m\u001b[0;34m[\u001b[0m\u001b[0;34m[\u001b[0m\u001b[0;36m1\u001b[0m\u001b[0;34m,\u001b[0m \u001b[0;36m0\u001b[0m\u001b[0;34m,\u001b[0m \u001b[0;36m1\u001b[0m\u001b[0;34m,\u001b[0m \u001b[0;36m1\u001b[0m\u001b[0;34m,\u001b[0m \u001b[0;36m0\u001b[0m\u001b[0;34m,\u001b[0m \u001b[0;36m1\u001b[0m\u001b[0;34m,\u001b[0m \u001b[0;36m1\u001b[0m\u001b[0;34m,\u001b[0m \u001b[0;36m0\u001b[0m\u001b[0;34m]\u001b[0m\u001b[0;34m]\u001b[0m\u001b[0;34m)\u001b[0m\u001b[0;34m\u001b[0m\u001b[0;34m\u001b[0m\u001b[0m\n\u001b[0;32m----> 7\u001b[0;31m \u001b[0mresultM\u001b[0m\u001b[0;34m,\u001b[0m \u001b[0mresult_rightM\u001b[0m \u001b[0;34m=\u001b[0m \u001b[0mmbf_comp\u001b[0m\u001b[0;34m(\u001b[0m\u001b[0mM_in\u001b[0m\u001b[0;34m,\u001b[0m \u001b[0mnvars\u001b[0m\u001b[0;34m,\u001b[0m \u001b[0mD_1\u001b[0m\u001b[0;34m,\u001b[0m \u001b[0mcomp\u001b[0m\u001b[0;34m)\u001b[0m\u001b[0;34m\u001b[0m\u001b[0;34m\u001b[0m\u001b[0m\n\u001b[0m\u001b[1;32m      8\u001b[0m \u001b[0mprint\u001b[0m\u001b[0;34m(\u001b[0m\u001b[0mresultM\u001b[0m\u001b[0;34m,\u001b[0m \u001b[0mresult_rightM\u001b[0m\u001b[0;34m)\u001b[0m\u001b[0;34m\u001b[0m\u001b[0;34m\u001b[0m\u001b[0m\n",
            "\u001b[0;32m<ipython-input-147-79733a662435>\u001b[0m in \u001b[0;36mmbf_comp\u001b[0;34m(M_in, nvars, D_1, comp)\u001b[0m\n\u001b[1;32m     23\u001b[0m             \u001b[0mcol\u001b[0m \u001b[0;34m=\u001b[0m \u001b[0mcomp\u001b[0m\u001b[0;34m[\u001b[0m\u001b[0;34m:\u001b[0m\u001b[0;34m,\u001b[0m \u001b[0mcurr_bit\u001b[0m\u001b[0;34m]\u001b[0m\u001b[0;34m\u001b[0m\u001b[0;34m\u001b[0m\u001b[0m\n\u001b[1;32m     24\u001b[0m \u001b[0;34m\u001b[0m\u001b[0m\n\u001b[0;32m---> 25\u001b[0;31m             \u001b[0mx\u001b[0m \u001b[0;34m=\u001b[0m \u001b[0mD_1\u001b[0m\u001b[0;34m[\u001b[0m\u001b[0mcurr_bit\u001b[0m\u001b[0;34m,\u001b[0m \u001b[0;34m:\u001b[0m\u001b[0;34m]\u001b[0m\u001b[0;34m\u001b[0m\u001b[0;34m\u001b[0m\u001b[0m\n\u001b[0m\u001b[1;32m     26\u001b[0m             \u001b[0mind2\u001b[0m \u001b[0;34m=\u001b[0m \u001b[0mnp\u001b[0m\u001b[0;34m.\u001b[0m\u001b[0mwhere\u001b[0m\u001b[0;34m(\u001b[0m\u001b[0mcol\u001b[0m \u001b[0;34m==\u001b[0m \u001b[0;36m0\u001b[0m\u001b[0;34m)\u001b[0m\u001b[0;34m[\u001b[0m\u001b[0;36m0\u001b[0m\u001b[0;34m]\u001b[0m\u001b[0;34m\u001b[0m\u001b[0;34m\u001b[0m\u001b[0m\n\u001b[1;32m     27\u001b[0m             \u001b[0mcard2\u001b[0m \u001b[0;34m=\u001b[0m \u001b[0mlen\u001b[0m\u001b[0;34m(\u001b[0m\u001b[0mind2\u001b[0m\u001b[0;34m)\u001b[0m\u001b[0;34m\u001b[0m\u001b[0;34m\u001b[0m\u001b[0m\n",
            "\u001b[0;31mIndexError\u001b[0m: index 6 is out of bounds for axis 0 with size 1"
          ]
        }
      ]
    },
    {
      "cell_type": "code",
      "source": [
        "def hash7b(f_in):\n",
        "\n",
        "\t# Computes the corresponding key of function f_in given in compressed form\n",
        "\t# Assumes f_in is a 7-variable MBF, with 4 32-bit components\n",
        "\tif not isinstance(f_in, np.ndarray):\n",
        "\t\tf_in = np.asarray(f_in)\n",
        "\n",
        "\t# Check if it has the correct length\n",
        "\tif f_in.shape[1] == 4:\n",
        "\t\tpass\n",
        "\telse:\n",
        "\t\tprint('Function not the correct size.')\n",
        "\n",
        "\n",
        "\t# Method: Nonlinear Hashing (Polynomial)\n",
        "\tkey = 0\n",
        "\n",
        "\tfor i in range(4):\n",
        "\t\tkey = (key + f_in[i][0]) % 19933999\n",
        "\t\tkey = (key*33) % 19933999\n",
        "\n",
        "\treturn key"
      ],
      "metadata": {
        "id": "rnhmYTWC530g"
      },
      "execution_count": null,
      "outputs": []
    },
    {
      "cell_type": "code",
      "source": [
        "# Test Case\n",
        "f_in = np.array([[1, 0, 1, 1], [1, 1, 0, 1], [1, 0, 1, 1], [1, 1, 0, 1]], dtype=np.int64)\n",
        "print(hash7b(f_in))"
      ],
      "metadata": {
        "id": "DzJ1pd1gg9tG",
        "colab": {
          "base_uri": "https://localhost:8080/"
        },
        "outputId": "cea36ea0-ec87-410e-c89b-159dc3d26d71"
      },
      "execution_count": null,
      "outputs": [
        {
          "output_type": "execute_result",
          "data": {
            "text/plain": [
              "1222980"
            ]
          },
          "metadata": {},
          "execution_count": 61
        }
      ]
    },
    {
      "cell_type": "code",
      "source": [
        "def findperm(f,sgn,nvars):\n",
        "\n",
        "# INPUTS\n",
        "# nvars: number of variables\n",
        "# f: function of length 2^nvars\n",
        "# sgn: permutation in S^n\n",
        "\n",
        "# Permutes the boolean function f (given in 0-1 form, with length 2^nvars)\n",
        "# according to sgn, a permutation of nvars variables.\n",
        "    if not isinstance(f, np.ndarray):\n",
        "        f = np.asarray(f)\n",
        "    if f.ndim !=2:\n",
        "            f = np.array([f])\n",
        "    if not isinstance(sgn, np.ndarray):\n",
        "        sgn = np.asarray(sgn)\n",
        "    red = np.ones(sgn.shape[0], dtype=int)\n",
        "    sgn = sgn - red\n",
        "\n",
        "# Check dimensions\n",
        "    if ((f.shape[1] == 2**nvars) and (len(sgn) == nvars)):\n",
        "        pass\n",
        "    else:\n",
        "        print(f'One or more inputs are invalid.')\n",
        "        return\n",
        "\n",
        "    mat = mat_2n(nvars)\n",
        "    mat_new = perm(mat, sgn, 1)\n",
        "\n",
        "    nperm = np.ones((2**nvars), dtype=int)\n",
        "\n",
        "    for k in range(2**nvars):\n",
        "        col_temp = mat_new[:,k]\n",
        "\n",
        "        mask = np.ones((2**nvars), dtype=int)\n",
        "\n",
        "        for i in range(nvars):\n",
        "            temp = np.logical_or(np.logical_and(col_temp[i],mat[i,:]),np.logical_not(np.logical_or(col_temp[i],mat[i,:])))\n",
        "            mask = np.logical_and(mask, temp)\n",
        "\n",
        "        nperm[k] = np.asarray(np.where(mask==True)).flatten()[0] + 1\n",
        "\n",
        "    fperm = perm(f,nperm,2)\n",
        "\n",
        "    return fperm"
      ],
      "metadata": {
        "id": "oSS3KF-b53sF"
      },
      "execution_count": null,
      "outputs": []
    },
    {
      "cell_type": "code",
      "source": [
        "# Test Case\n",
        "mat = [[1, 2, 3], [4, 5, 6], [7, 8, 9]]\n",
        "sgn = [1, 3, 2]\n",
        "nvars = 3\n",
        "per = findperm(mat,sgn,nvars)\n",
        "print(per)"
      ],
      "metadata": {
        "id": "hyhYtI1uh7-4"
      },
      "execution_count": null,
      "outputs": []
    },
    {
      "cell_type": "code",
      "source": [
        "def stepRhash(f, m, D_1, D_1_right, comp, perm_list):\n",
        "\n",
        "    # INPUTS\n",
        "    # f: MBF in n variables\n",
        "    # m: integer less than n\n",
        "    # D_1: all n-variable MBFs with one minimal term\n",
        "    # D_1_right: 'complements' of D_1, but not used\n",
        "    # comp: mat_2n(n), (0,1)-Rademacher matrix of order n\n",
        "    # perm_list: list of permutations from permlist(nvars)\n",
        "    # OUTPUT: All MBFs that could be possibly formed by adding a set of size m to f.\n",
        "    # If no such function exists, exist = 0.\n",
        "\n",
        "    # Initialize\n",
        "    len_f = len(f)\n",
        "    nvars = int(np.log2(len_f))\n",
        "    setsize = np.sum(comp, axis=0)\n",
        "    indices = (setsize == m)\n",
        "    lengthf = 2 ** nvars\n",
        "\n",
        "    M_perms2 = np.zeros((2, lengthf))\n",
        "\n",
        "    if nvars > 5:\n",
        "        c_cols = 2 ** (nvars - 5)\n",
        "    else:\n",
        "        c_cols = 1\n",
        "    sorter_comp = np.arange(c_cols)\n",
        "\n",
        "    result = np.zeros((0, c_cols), dtype=np.uint32)\n",
        "\n",
        "    if np.all(f[indices]) == 1:\n",
        "        exist = 0\n",
        "        result = f\n",
        "        return result, exist\n",
        "\n",
        "    # Get all comparable terms to minimal terms of f\n",
        "    _, reverse = mbf_comp(f, nvars, D_1, comp)\n",
        "\n",
        "    # Terms which are okay to be added\n",
        "    available = np.bitwise_not(np.bitwise_or(reverse, f))\n",
        "\n",
        "    # Check if there are any m-sets available\n",
        "    if np.any(np.bitwise_and(available, indices)) == 1:\n",
        "\n",
        "        # If there are sets which can be added\n",
        "        exist = 1\n",
        "\n",
        "        # Get all these sets\n",
        "        candidates = np.where(np.bitwise_and(available, indices))[0]\n",
        "        num_cand = len(candidates)\n",
        "\n",
        "        # Go through all candidates\n",
        "        for k in range(num_cand):\n",
        "\n",
        "            # Take conjunction with candidate term\n",
        "            new_entry = np.bitwise_or(f, D_1[candidates[k], :])\n",
        "            M_perms2[0, :] = new_entry\n",
        "\n",
        "            # Generate all permutations\n",
        "            for p in range(perm_list.shape[0]):\n",
        "                M_perms2[1, :] = new_entry[perm_list[p, :]]\n",
        "\n",
        "                # for each permuted function obtained, retain smaller one only\n",
        "                check_ind = np.where(M_perms2[0, :] != M_perms2[1, :])[0][0]\n",
        "\n",
        "                if M_perms2[1, check_ind] < M_perms2[0, check_ind]:\n",
        "                    # Least representative is now the new entry\n",
        "                    M_perms2[0, :] = M_perms2[1, :]\n",
        "\n",
        "            M_perms_out = rows_to_bits(M_perms2)  # Compress\n",
        "            M_new_least = M_perms_out[0, :]  # Get least representative\n",
        "\n",
        "            result = np.vstack((result, M_new_least))  # Append to result matrix so far\n",
        "\n",
        "    else:\n",
        "        # If no set can be added\n",
        "        exist = 0\n",
        "        result = f\n",
        "\n",
        "    return result, exist"
      ],
      "metadata": {
        "id": "EpIBLoK_7NS1"
      },
      "execution_count": null,
      "outputs": []
    },
    {
      "cell_type": "code",
      "source": [
        "from itertools import permutations\n",
        "\n",
        "def permlist(nvars):\n",
        "    # function A = permlist(nvars)\n",
        "\n",
        "    # Generates all permutations of n-variable BFs\n",
        "    # looking at the truth table forms (so length 2^n instead of n)\n",
        "\n",
        "    # First, generate all permutations in S^n\n",
        "    lst = np.array(list(permutations(range(nvars, 0, -1))))\n",
        "    A = None\n",
        "\n",
        "    # Then permute the index vector 1:2^n corresponding to\n",
        "    # all these permutations to get resulting\n",
        "    # indices for each\n",
        "    for i in range(lst.shape[0]):\n",
        "        B = findperm(np.array(range(1,2**nvars+1)),lst[i,:],nvars).flatten()\n",
        "        A = (np.vstack((A, B)) if (A is not None) else B)\n",
        "    return A"
      ],
      "metadata": {
        "id": "gNnfOGnH6_t7"
      },
      "execution_count": null,
      "outputs": []
    },
    {
      "cell_type": "code",
      "source": [
        "# Test Case\n",
        "nvars = 3\n",
        "a = permlist(nvars)\n",
        "print(a)"
      ],
      "metadata": {
        "id": "gT8ATvr_hbNl"
      },
      "execution_count": null,
      "outputs": []
    },
    {
      "cell_type": "code",
      "source": [
        "def mts_mat(mat, nvars):\n",
        "    # Outputs result, the minimal true statements of the MBFs in the matrix mat, as a string.\n",
        "    # Also outputs part, the profiles of each MBF in mat.\n",
        "\n",
        "    num_row, num_col = mat.shape\n",
        "\n",
        "    result = []\n",
        "    part = np.zeros((num_row, nvars))\n",
        "    part_o = []\n",
        "\n",
        "    for i in range(num_row):\n",
        "        if np.array_equal(mat[i, :], np.zeros(2**nvars)):\n",
        "            result.append('none')\n",
        "            part[i, :] = np.zeros(nvars)\n",
        "            part_o.append(str(np.zeros(nvars)))\n",
        "        elif np.array_equal(mat[i, :], np.ones(2**nvars)):\n",
        "            result.append('empty set')\n",
        "            part[i, :] = np.zeros(nvars)\n",
        "            part_o.append('empty set')\n",
        "        else:\n",
        "            curr = mts(mat[i, :], nvars)\n",
        "\n",
        "            ind = np.sum(curr, axis=0)\n",
        "            part_o.append(str(ind))\n",
        "\n",
        "            for k in range(nvars):\n",
        "                part[i, k] = np.sum(ind == k+1)\n",
        "\n",
        "            x, y = np.where(curr)\n",
        "            temp = np.concatenate((x.reshape(-1, 1), y.reshape(-1, 1)), axis=1)\n",
        "\n",
        "            result.append(str(temp[:, 0]))\n",
        "            # print(result)\n",
        "\n",
        "    # print(result,part_o)\n",
        "    # result[0, :] = []\n",
        "    # part_o[0, :] = []\n",
        "\n",
        "    return result, part"
      ],
      "metadata": {
        "id": "GVzWnt6Q-0IY"
      },
      "execution_count": null,
      "outputs": []
    },
    {
      "cell_type": "code",
      "source": [
        "# Test Case\n",
        "nvars = 3\n",
        "mat = mat_2n(nvars)\n",
        "# print(f\"mat = \\n{mat}\")\n",
        "res, par = mts_mat(mat, nvars)\n",
        "print(f\"Result={res}\\n Part={par}\")"
      ],
      "metadata": {
        "colab": {
          "base_uri": "https://localhost:8080/"
        },
        "id": "m5hB7V86IMBv",
        "outputId": "f75dd606-5118-47aa-a366-fdaf4a808279"
      },
      "execution_count": null,
      "outputs": [
        {
          "output_type": "stream",
          "name": "stdout",
          "text": [
            "Result=['[0]', '[1]', '[2]']\n",
            " Part=[[1. 0. 0.]\n",
            " [1. 0. 0.]\n",
            " [1. 0. 0.]]\n"
          ]
        }
      ]
    },
    {
      "cell_type": "code",
      "source": [
        "def lookup7b(f_in,table):\n",
        "\n",
        "\t# Finds function f_in in hash table \"table\"\n",
        "\t# Outputs where = key if it is there, where = next empty position if not.\n",
        "\t# Outputs there = 1 if it is there, there = 0 if not\n",
        "\tif not isinstance(f_in, np.ndarray):\n",
        "\t\tf_in = np.asarray(f_in)\n",
        "\tif not isinstance(table, np.ndarray):\n",
        "\t\ttable = np.asarray(table)\n",
        "\n",
        "\t# Checks sizes of inputs\n",
        "\tif table.shape[0] == 19933999:\n",
        "\t\tpass\n",
        "\telse:\n",
        "\t\tprint(f'Error: hash table incorrect size, should be 19933999')\n",
        "\t\treturn\n",
        "\n",
        "\tif table.shape[1] == 4:\n",
        "\t\tpass\n",
        "\telse:\n",
        "\t\tprint(f'Error: hash table does not have 4 columns')\n",
        "\t\treturn\n",
        "\n",
        "\tif f_in.shape[1] == 4:\n",
        "\t\tpass\n",
        "\telse:\n",
        "\t\tprint(f'Error: function input should have 4 compressed integers')\n",
        "\n",
        "\tkey = hash7b(f_in)\n",
        "\n",
        "\tif key == 0:\n",
        "\t\tkey = 19933999\n",
        "\n",
        "\tfound = 0\n",
        "\n",
        "\twhile found == 0:\n",
        "\t\tif (table[key-1,:] == np.array([0,0,0,0])).all():\n",
        "\t\t\tfound = 1\n",
        "\t\t\twhere = key\n",
        "\t\t\tthere = 0\n",
        "\t\telif (table[key-1,:] == f_in).all():\n",
        "\t\t\tfound = 1\n",
        "\t\t\twhere = key\n",
        "\t\t\tthere = 1\n",
        "\t\telse:\n",
        "\t\t\tkey = (key + 1) % 19933999\n",
        "\t\t\tif key == 0:\n",
        "\t\t\t\tkey = 19933999\n",
        "\n",
        "\treturn there, where"
      ],
      "metadata": {
        "id": "YA7aqzkO535V"
      },
      "execution_count": null,
      "outputs": []
    },
    {
      "cell_type": "code",
      "source": [
        "# Test Case\n",
        "f_in = np.array([[1, 0, 1, 1], [1, 1, 0, 1], [1, 0, 1, 1], [1, 1, 0, 1]], dtype=np.int64)\n",
        "table = np.array([[1, 0, 1, 1], [1, 1, 0, 1], [1, 0, 1, 1], [1, 1, 0, 1]], dtype=np.int64)\n",
        "print(lookup7b(f_in,table))"
      ],
      "metadata": {
        "colab": {
          "base_uri": "https://localhost:8080/"
        },
        "id": "8NmObBq8HWcC",
        "outputId": "47e3e93d-a1f7-45f5-b27c-a9eaa2a6ab32"
      },
      "execution_count": null,
      "outputs": [
        {
          "output_type": "stream",
          "name": "stdout",
          "text": [
            "Error: hash table incorrect size, should be 19933999\n",
            "None\n"
          ]
        }
      ]
    },
    {
      "cell_type": "code",
      "source": [
        "from scipy.special import comb\n",
        "\n",
        "def gen_profiles(nvars):\n",
        "    # Generates all possible profiles of MBFs on n variables, using count_signatures.\n",
        "\n",
        "    # Initialize; this includes all profiles up to r = 1\n",
        "    result = np.vstack((np.zeros(nvars), np.transpose(np.vstack((np.arange(1, 3 + 1), np.zeros((3 - 1, 3))))))).astype('int32')\n",
        "\n",
        "    # Keeps track of how many profiles we have so far\n",
        "    total = nvars + 1\n",
        "\n",
        "    # Count signatures using algorithm from A007695\n",
        "    # Save intermediate matrices 'kap' and 'c'\n",
        "    _, kap, c = count_signatures(nvars)\n",
        "\n",
        "    for r in range(2, nvars + 1):\n",
        "\n",
        "        x_max = comb(nvars, r, exact=True)\n",
        "\n",
        "        num_new = c[r, 0] - c[r - 1, 0]  # Number of profiles from previous iteration\n",
        "        index = [i for i in range(total-num_new, total)]\n",
        "        # print(total)\n",
        "        consider = result[index, :]  # Retrieve these profiles\n",
        "\n",
        "        for x in range(x_max):\n",
        "\n",
        "            K = kap[r, x+1]  # Gives number of (r-1)-sets that x amount of r-sets correspond to\n",
        "\n",
        "            # Gives rows that satisfy criteria\n",
        "            # i.e. having at least K (r-1)-sets\n",
        "            new_entries = consider[consider[:, r - 2] >= K, :]\n",
        "\n",
        "            # Make \"substitution\"\n",
        "            new_entries[:, r - 2] = new_entries[:, r - 2] - K\n",
        "            new_entries[:, r - 1] = new_entries[:, r - 1] + x + 1\n",
        "\n",
        "            # Append to existing list and update total\n",
        "            result = np.vstack((result, new_entries))\n",
        "            total = total + new_entries.shape[0]\n",
        "\n",
        "    return result"
      ],
      "metadata": {
        "id": "RbdEg32N53wm"
      },
      "execution_count": null,
      "outputs": []
    },
    {
      "cell_type": "code",
      "source": [
        "# Test Case\n",
        "nvars = 3\n",
        "res = gen_profiles(nvars)\n",
        "print(res)"
      ],
      "metadata": {
        "colab": {
          "base_uri": "https://localhost:8080/"
        },
        "id": "Wxle228hUXpe",
        "outputId": "561bb973-2986-46fa-d66e-dc7140b2bdce"
      },
      "execution_count": null,
      "outputs": [
        {
          "output_type": "stream",
          "name": "stdout",
          "text": [
            "[[0 0 0]\n",
            " [1 0 0]\n",
            " [2 0 0]\n",
            " [3 0 0]\n",
            " [0 1 0]\n",
            " [1 1 0]\n",
            " [0 2 0]\n",
            " [0 3 0]\n",
            " [0 0 1]]\n"
          ]
        }
      ]
    },
    {
      "cell_type": "markdown",
      "source": [
        "# count_functions_R_deltasHashGen"
      ],
      "metadata": {
        "id": "0YZbrUSJ5qhm"
      }
    },
    {
      "cell_type": "code",
      "execution_count": null,
      "metadata": {
        "id": "lcxw2uG75mii"
      },
      "outputs": [],
      "source": [
        "# from phi_1 import phi_1\n",
        "# from mat_2n import mat_2n\n",
        "# from mbf_comp import mbf_comp\n",
        "# from mts_mat import mts_mat\n",
        "# from rfb import rfb\n",
        "# from stepRhash import stepRhash\n",
        "# from lookup7b import lookup7b\n",
        "\n",
        "def count_functions_R_deltasHashGen(prof, perm_list, starting_f):\n",
        "    # Given prof, a matrix of profile vectors, counts the number of MBFs with those profiles\n",
        "    # in n variables (where n = length of prof)\n",
        "\n",
        "    # Requires that each succeeding row in prof have to differ from the\n",
        "    # previous row by exactly one set.\n",
        "\n",
        "    # Accepts input starting_f as a starting point.\n",
        "    # This corresponds to the list of functions in R(n) with profile prof[0]\n",
        "\n",
        "    # starting_f is assumed to be in 0-1 expanded form\n",
        "\n",
        "    list_size, nvars = prof.shape\n",
        "\n",
        "    # Initialize functions with 1 minterm & comparable ones\n",
        "    D_1 = phi_1(nvars)\n",
        "    comp = mat_2n(nvars)\n",
        "    dummy2, D_1_right = mbf_comp(D_1, nvars, D_1, comp)\n",
        "\n",
        "    # For compressing\n",
        "    if nvars > 5:\n",
        "        c_cols = 2 ** (nvars - 5)\n",
        "    else:\n",
        "        c_cols = 1\n",
        "\n",
        "    sorter_comp = np.arange(1, c_cols + 1)\n",
        "\n",
        "    # Check if input profiles really only have 1 set differences between consecutive rows\n",
        "    deltas = prof[1:list_size, :] - prof[0:list_size-1, :]\n",
        "    isone = np.sum(deltas, axis=1) == 1\n",
        "    if np.all(isone):\n",
        "        pass\n",
        "    else:\n",
        "        wrong = np.where(isone == 0)[0][0]\n",
        "        print(f\"Incorrect profile input at {wrong}\")\n",
        "        return\n",
        "\n",
        "    # Check starting_f if accurate (get first 20 rows only if more than 20)\n",
        "    if starting_f.shape[0] > 100:\n",
        "        start_check = starting_f[0:100, :]\n",
        "    else:\n",
        "        start_check = starting_f\n",
        "\n",
        "    dummy1, dummy2 = mts_mat(start_check, nvars)  # Get profiles\n",
        "\n",
        "    # Check if they have the correct profile\n",
        "    for k in range(nvars):\n",
        "        if not np.array_equal(dummy2[:, k], prof[0, k]):\n",
        "            invalid_ind = np.where(dummy2[:, k] != prof[0, k])[0][0]\n",
        "            print(f\"Function {invalid_ind} is invalid with profile {dummy2[invalid_ind, :]}\")\n",
        "            return\n",
        "\n",
        "    result = np.zeros((list_size, 1), dtype=np.uint32)  # Will store output per profile\n",
        "    start_time = time.process_time()  # Start time\n",
        "\n",
        "    for i in range(list_size - 1):  # Start at 1 since we have i = 0 as input.\n",
        "        # Take only deltas between rows. Get index directly.\n",
        "        curr_size = np.where(deltas[i, :])[0]\n",
        "\n",
        "        if i == 0:\n",
        "            fcns_exp = starting_f\n",
        "            result[0] = starting_f.shape[0]\n",
        "            print(f\"Initial profile {prof[i, :]} has {result[i]} functions.\")\n",
        "            print()\n",
        "        else:\n",
        "            fcns_exp = rfb(fcns, 2 ** nvars)\n",
        "            # Write function to file\n",
        "            fname = f\"{prof[i, 1]}_{prof[i, 2]}_{prof[i, 3]}_{prof[i, 4]}.bin\"\n",
        "            with open(fname, \"wb\") as file:\n",
        "                file.write(fcns_exp)\n",
        "            # End write\n",
        "\n",
        "        temp = np.zeros((19933999, c_cols), dtype=np.uint32)  # Initialize Hash Table\n",
        "\n",
        "        for k in range(fcns_exp.shape[0]):\n",
        "            dummy, exist = stepRhash(fcns_exp[k, :], curr_size, D_1, D_1_right, comp, perm_list)\n",
        "\n",
        "            if exist == 1:\n",
        "                for b in range(dummy.shape[0]):\n",
        "                    # Lookup hash table if function is there\n",
        "                    there, where = lookup7b(dummy[b, :], temp)\n",
        "                    if there == 0:\n",
        "                        temp[where, :] = dummy[b, :]  # If function is not there, insert\n",
        "\n",
        "        fcns = temp[temp[:, 0] > 0, :]  # Get nontrivial entries in hash table, these are the functions\n",
        "        result[i + 1] = fcns.shape[0]  # Record number obtained\n",
        "\n",
        "        # Print output\n",
        "        print(f\"Profile {prof[i + 1, :]} done after {time.process_time() - start_time} seconds.\")\n",
        "        print(f\"Number of functions: {result[i + 1]}\")\n",
        "        print()\n",
        "\n",
        "    return result\n"
      ]
    },
    {
      "cell_type": "code",
      "source": [
        "# Write last profile\n",
        "fcns_exp = rfb(fcns, 2 ** nvars)\n",
        "i = list_size - 1\n",
        "fname = f\"{prof[i, 1]}_{prof[i, 2]}_{prof[i, 3]}_{prof[i, 4]}.bin\"\n",
        "with open(fname, \"wb\") as file:\n",
        "    file.write(fcns_exp)\n",
        "# End write"
      ],
      "metadata": {
        "id": "GYyo4FUckcx7"
      },
      "execution_count": null,
      "outputs": []
    }
  ]
}